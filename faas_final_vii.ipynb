{
 "cells": [
  {
   "cell_type": "code",
   "execution_count": 7,
   "id": "aa81c0b4-3c35-4e4f-bd73-e2e060a0a55a",
   "metadata": {},
   "outputs": [
    {
     "data": {
      "text/plain": [
       "True"
      ]
     },
     "execution_count": 7,
     "metadata": {},
     "output_type": "execute_result"
    }
   ],
   "source": [
    "import redis \n",
    "\n",
    "client = redis.Redis('host.docker.internal', 6379, 0)\n",
    "\n",
    "client.flushdb()"
   ]
  },
  {
   "cell_type": "code",
   "execution_count": 8,
   "id": "ab027b81-0c09-4f3b-a568-8e84fbaaa179",
   "metadata": {},
   "outputs": [],
   "source": [
    "client.close()"
   ]
  },
  {
   "cell_type": "code",
   "execution_count": 9,
   "id": "beeba56c-9bd8-49f4-acca-638f4acbf4b0",
   "metadata": {},
   "outputs": [],
   "source": [
    "import json\n",
    "import numpy as np\n",
    "import threading\n",
    "import time\n",
    "from concurrent.futures import ThreadPoolExecutor\n",
    "from pcomp.kafka_handlers import KafkaProducerHandler, KafkaConsumerHandler, KafkaConsumerHandlerNeuron\n",
    "from pcomp.activation_functions import ACTIVATIONS, relu, softmax\n",
    "from pcomp.redis_utils import RedisHandler\n",
    "from pcomp.parser import parse_layer_coordinator_message, parse_layer_message\n",
    "#from pcomp.avro_utils import avro_serialize, avro_deserialize\n",
    "from pcomp.neurons_accumulator import NeuronsAccumulator\n",
    "\n",
    "# Kafka Configuration\n",
    "KAFKA_BROKER = 'kafka:29092'"
   ]
  },
  {
   "cell_type": "code",
   "execution_count": 10,
   "id": "98839d08-ace4-435b-9a31-44a666f36399",
   "metadata": {},
   "outputs": [
    {
     "name": "stdout",
     "output_type": "stream",
     "text": [
      "Threads started\n"
     ]
    }
   ],
   "source": [
    "class Neuron(threading.Thread):\n",
    "    def __init__(self, layer_id, neuron_id, weights, bias, activation, is_final_layer):\n",
    "        threading.Thread.__init__(self)\n",
    "        self.layer_id = layer_id\n",
    "        self.layer_id_num = int(self.layer_id.replace(\"layer_\", \"\"))\n",
    "        self.neuron_id = neuron_id\n",
    "        self.weights = np.array(weights)\n",
    "        self.bias = np.array(bias)\n",
    "        self.activation = activation\n",
    "        self.activation_func = ACTIVATIONS.get(activation, relu)\n",
    "        self.is_final_layer = is_final_layer\n",
    "        self.redis_handler = RedisHandler('host.docker.internal', 6379, 0, 7)\n",
    "        self.producer = None\n",
    "        \n",
    "\n",
    "    def fetch_input(self, image_id):\n",
    "        key = f\"initial_data_{image_id}\" if self.layer_id_num == 0 else f\"{self.layer_id_num - 1}_{image_id}\"\n",
    "        return np.frombuffer(self.redis_handler.get(key), dtype=np.float64)\n",
    "\n",
    "    def process_and_send(self, image_id, input_data):\n",
    "        z = np.dot(input_data, self.weights) + self.bias\n",
    "        output = z if self.is_final_layer else self.activation_func(z)\n",
    "        self.producer.send_with_key(str(image_id), f\"{self.neuron_id}|{format(output, '.17g')}\")\n",
    "\n",
    "    def run(self):\n",
    "        # Instantiate Kafka consumer and producer inside the thread.\n",
    "        consumer = KafkaConsumerHandler(f'layer-{self.layer_id_num}', KAFKA_BROKER, group_id=f\"{self.neuron_id}_{self.layer_id_num}_group\")\n",
    "        self.producer = KafkaProducerHandler(KAFKA_BROKER, f'layer-{self.layer_id_num}-streams')\n",
    "        last_msg_time = time.time()\n",
    "        while True:\n",
    "            got_message = False\n",
    "            for message in consumer.consume():\n",
    "                got_message = True\n",
    "                last_msg_time = time.time()\n",
    "                image_id_str = message\n",
    "                image_id = int(image_id_str)\n",
    "                try:\n",
    "                    input_data = self.fetch_input(image_id)\n",
    "                    self.process_and_send(image_id, input_data)\n",
    "                except Exception:\n",
    "                    pass\n",
    "            if not got_message and (time.time() - last_msg_time > 10):\n",
    "                consumer.commit()\n",
    "                consumer.close()\n",
    "                self.producer.close()\n",
    "                self.redis_handler.close()\n",
    "                break\n",
    "\n",
    "\n",
    "class NeuronOutput(threading.Thread):\n",
    "    def __init__(self):\n",
    "        threading.Thread.__init__(self)\n",
    "        self.redis_handler = RedisHandler('host.docker.internal', 6379, 0, 8)\n",
    "        self.last_layer_id_num = 1\n",
    "        self.executor = ThreadPoolExecutor(max_workers=4)\n",
    "\n",
    "    def run(self):\n",
    "        consumer = KafkaConsumerHandler(f'layer-output', KAFKA_BROKER, group_id=f\"neuron_output_coord_group\")\n",
    "        last_msg_time = time.time()\n",
    "        while True:\n",
    "            got_message = False\n",
    "            for message in consumer.consume():\n",
    "                got_message = True\n",
    "                last_msg_time = time.time()\n",
    "                image_id = int(message)\n",
    "                try:\n",
    "                    key = f\"{self.last_layer_id_num}_{image_id}\"\n",
    "                    outputs = np.frombuffer(self.redis_handler.get(key), dtype=np.float64)\n",
    "                    prediction = int(np.argmax(outputs))\n",
    "                    self.redis_handler.hset('streams:predictions', image_id, prediction)\n",
    "                    self.redis_handler.delete(f\"initial_data_{image_id}\")\n",
    "                except Exception:\n",
    "                    pass\n",
    "            if not got_message and (time.time() - last_msg_time > 15):\n",
    "                consumer.commit()\n",
    "                consumer.close()\n",
    "                self.redis_handler.close()\n",
    "                break\n",
    "\n",
    "# Load network and dataset\n",
    "data = json.load(open(\"node_based_model.json\"))\n",
    "#df = pd.read_csv('data/mnist.csv').head(10)\n",
    "\n",
    "neurons = []\n",
    "\n",
    "for layer_name, layer_info in data.items():\n",
    "    neurons += [Neuron(layer_id=layer_name, neuron_id=i, weights=node['weights'], bias=node['biases'], activation=node['activation'], is_final_layer=(layer_name == list(data.keys())[-1])) for i, node in enumerate(layer_info['nodes'])]\n",
    "\n",
    "neuron_output = NeuronOutput()\n",
    "\n",
    "# Start all threads\n",
    "for thread in neurons:\n",
    "    thread.start()\n",
    "\n",
    "neuron_output.start()\n",
    "\n",
    "print(\"Threads started\")"
   ]
  },
  {
   "cell_type": "code",
   "execution_count": 5,
   "id": "b1b1a50c-ab95-481e-8073-37427cc70037",
   "metadata": {},
   "outputs": [
    {
     "name": "stdout",
     "output_type": "stream",
     "text": [
      "Accuracy: 95.23% (2857/3000)\n"
     ]
    }
   ],
   "source": [
    "import redis\n",
    "\n",
    "# Connect to Redis\n",
    "r = RedisHandler('host.docker.internal', 6379, 0)\n",
    "\n",
    "# Get hashes from Redis\n",
    "images_label = r.hgetall('images_label')\n",
    "predictions = r.hgetall('streams:predictions')\n",
    "\n",
    "# Decode bytes to string\n",
    "images_label = {k.decode(): v.decode() for k, v in images_label.items()}\n",
    "predictions = {k.decode(): v.decode() for k, v in predictions.items()}\n",
    "\n",
    "# Calculate accuracy\n",
    "correct = 0\n",
    "total = len(images_label)\n",
    "\n",
    "for field, label_val in images_label.items():\n",
    "    pred_val = predictions.get(field, None)\n",
    "    if pred_val == label_val:\n",
    "        correct += 1\n",
    "\n",
    "accuracy = (correct / total) * 100 if total > 0 else 0\n",
    "\n",
    "print(f'Accuracy: {accuracy:.2f}% ({correct}/{total})')\n"
   ]
  },
  {
   "cell_type": "code",
   "execution_count": 6,
   "id": "a8bb92a4-f4c2-46bb-bb4d-2742391fd88f",
   "metadata": {},
   "outputs": [
    {
     "name": "stdout",
     "output_type": "stream",
     "text": [
      "Threads finished\n"
     ]
    }
   ],
   "source": [
    "# Wait for all threads to complete\n",
    "for thread in neurons:\n",
    "    thread.join()\n",
    "\n",
    "neuron_output.join()\n",
    "\n",
    "print(\"Threads finished\")"
   ]
  },
  {
   "cell_type": "code",
   "execution_count": null,
   "id": "e95ff403-a113-44c7-940f-1f8ad0b391ae",
   "metadata": {},
   "outputs": [],
   "source": []
  }
 ],
 "metadata": {
  "kernelspec": {
   "display_name": "Python 3 (ipykernel)",
   "language": "python",
   "name": "python3"
  },
  "language_info": {
   "codemirror_mode": {
    "name": "ipython",
    "version": 3
   },
   "file_extension": ".py",
   "mimetype": "text/x-python",
   "name": "python",
   "nbconvert_exporter": "python",
   "pygments_lexer": "ipython3",
   "version": "3.9.22"
  }
 },
 "nbformat": 4,
 "nbformat_minor": 5
}
