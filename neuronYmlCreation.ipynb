{
 "cells": [
  {
   "cell_type": "code",
   "execution_count": 6,
   "id": "a778481c-1546-4b2d-a53c-8e1738de7ed5",
   "metadata": {},
   "outputs": [
    {
     "name": "stdout",
     "output_type": "stream",
     "text": [
      "Τα αρχεία δημιουργήθηκαν\n"
     ]
    }
   ],
   "source": [
    "import os\n",
    "import json\n",
    "from pathlib import Path\n",
    "from string import Template\n",
    "\n",
    "# Διαδρομή του αρχικού yml αρχείου (πρότυπο)\n",
    "input_file = \"neuron_function.yml\"\n",
    "\n",
    "# Ανάγνωση περιεχομένου από το template\n",
    "with open(input_file, \"r\", encoding=\"utf-8\") as file:\n",
    "    content = file.read()\n",
    "\n",
    "# Δημιουργία του φακέλου αν δεν υπάρχει ήδη\n",
    "folder_path = \"neuronYmlFolder\"\n",
    "os.makedirs(folder_path, exist_ok=True)\n",
    "\n",
    "\n",
    "# Ανάγνωση neurons από το json\n",
    "with open(\"neurons.json\", \"r\", encoding=\"utf-8\") as file:\n",
    "    data = json.load(file)\n",
    "\n",
    "# Δημιουργία αρχείων .yml για κάθε neuron\n",
    "for params_json in data:\n",
    "    \n",
    "    function_id = f\"neuron_{str(params_json.get('layer_id_num', 'unknown'))}_{str(params_json.get('neuron_id', 'unknown'))}\"\n",
    "    # Αντικατάσταση μεταβλητών\n",
    "    template = Template(content)\n",
    "    newContent = template.substitute(FUNCTION_ID=function_id, PARAMS_JSON=json.dumps(params_json, indent=2))\n",
    "    output_file = function_id+\".yml\"\n",
    "    # Αποθήκευση του νέου αρχείου\n",
    "    with open((Path(folder_path) / output_file), \"w\", encoding=\"utf-8\") as file:\n",
    "        file.write(newContent)\n",
    "\n",
    "print(f\"Τα αρχεία δημιουργήθηκαν\")"
   ]
  },
  {
   "cell_type": "code",
   "execution_count": null,
   "id": "33f60e63-65dc-48b0-b85d-abfdb4090888",
   "metadata": {},
   "outputs": [],
   "source": []
  }
 ],
 "metadata": {
  "kernelspec": {
   "display_name": "Python 3 (ipykernel)",
   "language": "python",
   "name": "python3"
  },
  "language_info": {
   "codemirror_mode": {
    "name": "ipython",
    "version": 3
   },
   "file_extension": ".py",
   "mimetype": "text/x-python",
   "name": "python",
   "nbconvert_exporter": "python",
   "pygments_lexer": "ipython3",
   "version": "3.9.22"
  }
 },
 "nbformat": 4,
 "nbformat_minor": 5
}
