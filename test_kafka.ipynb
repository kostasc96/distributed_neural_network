{
 "cells": [
  {
   "cell_type": "code",
   "execution_count": 5,
   "id": "c098cbf4-e7d4-4f0d-b172-e7a86726f6be",
   "metadata": {},
   "outputs": [],
   "source": [
    "BROKERS = [\"host.docker.internal:9092\"]"
   ]
  },
  {
   "cell_type": "code",
   "execution_count": null,
   "id": "15d133c7-defa-406f-8998-10ebce800c08",
   "metadata": {},
   "outputs": [
    {
     "name": "stdout",
     "output_type": "stream",
     "text": [
      "Starting consumer...\n",
      "Message sent:  {'user_id': 0, 'action': 'activate', 'timestamp': '2025-03-12T12:00:00'}\n",
      "Message sent:  {'user_id': 1, 'action': 'activate', 'timestamp': '2025-03-12T12:00:00'}\n",
      "Message sent:  {'user_id': 2, 'action': 'activate', 'timestamp': '2025-03-12T12:00:00'}\n",
      "Received message:  {'user_id': 2, 'action': 'activate', 'timestamp': '2025-03-12T12:00:00'}\n",
      "Message sent:  {'user_id': 3, 'action': 'activate', 'timestamp': '2025-03-12T12:00:00'}\n",
      "Received message:  {'user_id': 3, 'action': 'activate', 'timestamp': '2025-03-12T12:00:00'}\n",
      "Message sent:  {'user_id': 4, 'action': 'activate', 'timestamp': '2025-03-12T12:00:00'}\n",
      "Received message:  {'user_id': 4, 'action': 'activate', 'timestamp': '2025-03-12T12:00:00'}\n"
     ]
    }
   ],
   "source": [
    "from kafka import KafkaProducer, KafkaConsumer\n",
    "import json\n",
    "import threading\n",
    "import time\n",
    "import uuid\n",
    "\n",
    "def produce_messages():\n",
    "    producer = KafkaProducer(\n",
    "        bootstrap_servers=BROKERS,\n",
    "        value_serializer=lambda v: json.dumps(v).encode('utf-8')\n",
    "    )\n",
    "\n",
    "    for i in range(5):\n",
    "        message = {\n",
    "            \"user_id\": i,\n",
    "            \"action\": \"activate\",\n",
    "            \"timestamp\": \"2025-03-12T12:00:00\"\n",
    "        }\n",
    "        producer.send('activate-layer', message)\n",
    "        print(\"Message sent: \", message)\n",
    "        time.sleep(1)\n",
    "\n",
    "    producer.flush()\n",
    "\n",
    "def consume_messages():\n",
    "    unique_group_id = f'my-group-{uuid.uuid4()}'\n",
    "    consumer = KafkaConsumer(\n",
    "        'activate-layer',\n",
    "        bootstrap_servers=BROKERS,\n",
    "        auto_offset_reset='latest',\n",
    "        enable_auto_commit=True,\n",
    "        group_id=unique_group_id,\n",
    "        value_deserializer=lambda x: json.loads(x.decode('utf-8'))\n",
    "    )\n",
    "\n",
    "    print(\"Starting consumer...\")\n",
    "    count = 0\n",
    "    for message in consumer:\n",
    "        print(\"Received message: \", message.value)\n",
    "        count += 1\n",
    "        if count >= 5:\n",
    "            break\n",
    "\n",
    "if __name__ == \"__main__\":\n",
    "    # Start consumer in a separate thread\n",
    "    consumer_thread = threading.Thread(target=consume_messages)\n",
    "    consumer_thread.start()\n",
    "\n",
    "    # Ensure the consumer is fully ready\n",
    "    time.sleep(2)\n",
    "\n",
    "    produce_messages()\n",
    "\n",
    "    consumer_thread.join()\n"
   ]
  },
  {
   "cell_type": "code",
   "execution_count": null,
   "id": "602138bd-b600-43c0-ab2c-b5ce9fd12b83",
   "metadata": {},
   "outputs": [],
   "source": []
  }
 ],
 "metadata": {
  "kernelspec": {
   "display_name": "Python 3 (ipykernel)",
   "language": "python",
   "name": "python3"
  },
  "language_info": {
   "codemirror_mode": {
    "name": "ipython",
    "version": 3
   },
   "file_extension": ".py",
   "mimetype": "text/x-python",
   "name": "python",
   "nbconvert_exporter": "python",
   "pygments_lexer": "ipython3",
   "version": "3.9.21"
  }
 },
 "nbformat": 4,
 "nbformat_minor": 5
}
