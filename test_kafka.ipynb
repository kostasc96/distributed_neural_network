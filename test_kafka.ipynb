{
 "cells": [
  {
   "cell_type": "code",
   "execution_count": 1,
   "id": "c098cbf4-e7d4-4f0d-b172-e7a86726f6be",
   "metadata": {},
   "outputs": [],
   "source": [
    "BROKERS = [\"host.docker.internal:9092\"]"
   ]
  },
  {
   "cell_type": "code",
   "execution_count": 9,
   "id": "15d133c7-defa-406f-8998-10ebce800c08",
   "metadata": {},
   "outputs": [
    {
     "name": "stdout",
     "output_type": "stream",
     "text": [
      "Starting consumer...\n",
      "Message sent:  {'user_id': 0, 'action': 'activate', 'timestamp': '2025-03-12T12:00:00'}\n",
      "Received message: layer_0\n",
      "Message sent:  {'user_id': 1, 'action': 'activate', 'timestamp': '2025-03-12T12:00:00'}\n",
      "Message sent:  {'user_id': 2, 'action': 'activate', 'timestamp': '2025-03-12T12:00:00'}\n",
      "Received message: layer_0\n",
      "Message sent:  {'user_id': 3, 'action': 'activate', 'timestamp': '2025-03-12T12:00:00'}\n",
      "Message sent:  {'user_id': 4, 'action': 'activate', 'timestamp': '2025-03-12T12:00:00'}\n",
      "Received message: layer_0\n",
      "Received message: layer_0\n",
      "Received message: layer_0\n"
     ]
    }
   ],
   "source": [
    "#from kafka import KafkaProducer, KafkaConsumer\n",
    "import json\n",
    "import threading\n",
    "import time\n",
    "import uuid\n",
    "from pcomp_utils.kafka_confluent_utils import KafkaProducerHandler, KafkaConsumerHandler\n",
    "\n",
    "KAFKA_BROKER = 'kafka:9092'\n",
    "\n",
    "def produce_messages():\n",
    "    # producer = KafkaProducer(\n",
    "    #     bootstrap_servers=BROKERS,\n",
    "    #     value_serializer=lambda v: json.dumps(v).encode('utf-8')\n",
    "    # )\n",
    "    producer = KafkaProducerHandler(KAFKA_BROKER)\n",
    "\n",
    "    for i in range(5):\n",
    "        message = {\n",
    "            \"user_id\": i,\n",
    "            \"action\": \"activate\",\n",
    "            \"timestamp\": \"2025-03-12T12:00:00\"\n",
    "        }\n",
    "        producer.send('activate-layer', message, 0)\n",
    "        print(\"Message sent: \", message)\n",
    "        time.sleep(1)\n",
    "\n",
    "    producer.close()\n",
    "\n",
    "def consume_messages():\n",
    "    consumer = KafkaConsumerHandler('activate-layer', KAFKA_BROKER, partition=0)\n",
    "\n",
    "    print(\"Starting consumer...\")\n",
    "    count = 0\n",
    "    for message in consumer.consume():\n",
    "        time.sleep(2)\n",
    "        layer= message.get(\"layer\")\n",
    "        print(f\"Received message: {layer}\")\n",
    "        count += 1\n",
    "        if count >= 5:\n",
    "            break\n",
    "\n",
    "if __name__ == \"__main__\":\n",
    "    # Start consumer in a separate thread\n",
    "    consumer_thread = threading.Thread(target=consume_messages)\n",
    "    consumer_thread.start()\n",
    "\n",
    "    # Ensure the consumer is fully ready\n",
    "    time.sleep(2)\n",
    "\n",
    "    produce_messages()\n",
    "\n",
    "    consumer_thread.join()\n"
   ]
  },
  {
   "cell_type": "code",
   "execution_count": null,
   "id": "602138bd-b600-43c0-ab2c-b5ce9fd12b83",
   "metadata": {},
   "outputs": [
    {
     "name": "stdout",
     "output_type": "stream",
     "text": [
      "Starting consumer...\n",
      "Produced: {'key': 'message-0', 'value': 'This is message number 0'}\n",
      "Produced: {'key': 'message-1', 'value': 'This is message number 1'}\n",
      "Produced: {'key': 'message-2', 'value': 'This is message number 2'}\n",
      "Consumed: b'{\"key\": \"message-2\", \"value\": \"This is message number 2\"}'\n",
      "Produced: {'key': 'message-3', 'value': 'This is message number 3'}\n",
      "Consumed: b'{\"key\": \"message-3\", \"value\": \"This is message number 3\"}'\n",
      "Produced: {'key': 'message-4', 'value': 'This is message number 4'}\n",
      "Produced: {'key': 'message-5', 'value': 'This is message number 5'}\n",
      "Produced: {'key': 'message-6', 'value': 'This is message number 6'}\n",
      "Consumed: b'{\"key\": \"message-6\", \"value\": \"This is message number 6\"}'\n",
      "Produced: {'key': 'message-7', 'value': 'This is message number 7'}\n",
      "Produced: {'key': 'message-8', 'value': 'This is message number 8'}\n",
      "Produced: {'key': 'message-9', 'value': 'This is message number 9'}\n"
     ]
    }
   ],
   "source": [
    "import time\n",
    "from pcomp_utils.kafka_confluent_utils import KafkaProducerHandler, KafkaConsumerHandler\n",
    "\n",
    "KAFKA_BROKER = 'kafka:9092'\n",
    "TOPIC_NAME = 'activate-layer'\n",
    "GROUP_ID = 'simple-group'\n",
    "\n",
    "# Simple Kafka Producer\n",
    "def simple_producer():\n",
    "    producer = KafkaProducerHandler(KAFKA_BROKER)\n",
    "    for i in range(10):\n",
    "        message = {'key': f'message-{i}', 'value': f'This is message number {i}'}\n",
    "        producer.send(TOPIC_NAME, message)\n",
    "        print(f'Produced: {message}')\n",
    "        time.sleep(1)\n",
    "    producer.close()\n",
    "\n",
    "# Simple Kafka Consumer\n",
    "def simple_consumer():\n",
    "    consumer = KafkaConsumerHandler(TOPIC_NAME, KAFKA_BROKER, group_id=GROUP_ID)\n",
    "    print('Starting consumer...')\n",
    "    try:\n",
    "        for message in consumer.consume():\n",
    "            print(f'Consumed: {message.value()}')\n",
    "    except KeyboardInterrupt:\n",
    "        print(\"Consumer interrupted\")\n",
    "    finally:\n",
    "        consumer.close()\n",
    "\n",
    "if __name__ == '__main__':\n",
    "    from threading import Thread\n",
    "\n",
    "    # Start the consumer in a separate thread\n",
    "    consumer_thread = Thread(target=simple_consumer)\n",
    "    consumer_thread.start()\n",
    "\n",
    "    # Give the consumer a moment to start\n",
    "    time.sleep(2)\n",
    "\n",
    "    # Run the producer\n",
    "    simple_producer()\n",
    "\n",
    "    # Wait for the consumer to finish\n",
    "    consumer_thread.join()\n"
   ]
  },
  {
   "cell_type": "code",
   "execution_count": null,
   "id": "8466a090-0c35-4703-bd29-bee692e00ed3",
   "metadata": {},
   "outputs": [],
   "source": []
  },
  {
   "cell_type": "code",
   "execution_count": null,
   "id": "29d07a22-4f62-41fb-9f1c-cd56914388a3",
   "metadata": {},
   "outputs": [],
   "source": []
  }
 ],
 "metadata": {
  "kernelspec": {
   "display_name": "Python 3 (ipykernel)",
   "language": "python",
   "name": "python3"
  },
  "language_info": {
   "codemirror_mode": {
    "name": "ipython",
    "version": 3
   },
   "file_extension": ".py",
   "mimetype": "text/x-python",
   "name": "python",
   "nbconvert_exporter": "python",
   "pygments_lexer": "ipython3",
   "version": "3.9.21"
  }
 },
 "nbformat": 4,
 "nbformat_minor": 5
}
