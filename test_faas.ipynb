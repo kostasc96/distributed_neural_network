{
 "cells": [
  {
   "cell_type": "code",
   "execution_count": 14,
   "id": "c06c6ce5-582e-4127-8f1b-bceecec1802b",
   "metadata": {},
   "outputs": [
    {
     "name": "stdout",
     "output_type": "stream",
     "text": [
      "Predicted label: 7, Actual label: 7\n"
     ]
    }
   ],
   "source": [
    "import json\n",
    "import numpy as np\n",
    "from scipy.special import expit  # Sigmoid function\n",
    "from torchvision import datasets, transforms\n",
    "\n",
    "# Load model from JSON file\n",
    "def load_model(json_path):\n",
    "    with open(json_path, 'r') as f:\n",
    "        model = json.load(f)\n",
    "    return model\n",
    "\n",
    "# Define activation functions\n",
    "activation_functions = {\n",
    "    \"relu\": lambda x: np.maximum(0, x),\n",
    "    \"sigmoid\": expit,\n",
    "    \"tanh\": np.tanh,\n",
    "    \"linear\": lambda x: x,\n",
    "    \"softmax\": lambda x: np.exp(x) / np.sum(np.exp(x), axis=0, keepdims=True)  # Softmax function fixed for 1D input\n",
    "}\n",
    "\n",
    "# Define standalone functions for each neuron\n",
    "class MLP_Network:\n",
    "    def __init__(self, model_json):\n",
    "        self.layers = []\n",
    "        self.activations = []\n",
    "        \n",
    "        for layer_key in sorted(model_json.keys(), key=lambda x: int(x.split('_')[1])):\n",
    "            layer = model_json[layer_key]\n",
    "            self.layers.append((np.array(layer[\"weights\"]).T, np.array(layer[\"biases\"])))  # Transpose weights\n",
    "            self.activations.append(activation_functions[layer[\"activation\"]])\n",
    "    \n",
    "    def forward(self, x):\n",
    "        for (weights, biases), activation in zip(self.layers, self.activations):\n",
    "            x = activation(np.dot(x, weights) + biases)\n",
    "        return x\n",
    "\n",
    "# Load the model from the provided JSON file\n",
    "model_path = \"model.json\"\n",
    "model_json = load_model(model_path)\n",
    "mlp = MLP_Network(model_json)\n",
    "\n",
    "# Load MNIST data using PyTorch datasets\n",
    "mnist_test = datasets.MNIST(root=\"./data\", train=False, transform=transforms.ToTensor(), download=True)\n",
    "\n",
    "# Test model on a single MNIST image\n",
    "image, label = mnist_test[0]\n",
    "image = image.numpy().reshape(-1)  # Flatten the 28x28 image into a vector\n",
    "prediction = mlp.forward(image)\n",
    "predicted_label = np.argmax(prediction)\n",
    "\n",
    "print(f\"Predicted label: {predicted_label}, Actual label: {label}\")"
   ]
  },
  {
   "cell_type": "code",
   "execution_count": 25,
   "id": "806ccbf8-a51f-4088-ae67-9a2ff7fc3b00",
   "metadata": {},
   "outputs": [
    {
     "name": "stdout",
     "output_type": "stream",
     "text": [
      "input output: [0. 0. 0. 0. 0.]\n",
      "layer_0 output: [0.         1.26142723 0.         0.         3.11774806]\n",
      "layer_1 output: [1.60325687e-04 5.34613357e-05 2.66673920e-02 5.01315493e-02\n",
      " 9.32749863e-06]\n",
      "Predicted label: 7, Actual label: 7\n"
     ]
    }
   ],
   "source": [
    "import json\n",
    "import numpy as np\n",
    "from scipy.special import expit  # Sigmoid function\n",
    "from torchvision import datasets, transforms\n",
    "\n",
    "# Load model from JSON file\n",
    "def load_model(json_path):\n",
    "    with open(json_path, 'r') as f:\n",
    "        model = json.load(f)\n",
    "    return model\n",
    "\n",
    "# Define activation functions\n",
    "activation_functions = {\n",
    "    \"relu\": lambda x: np.maximum(0, x),\n",
    "    \"sigmoid\": expit,\n",
    "    \"tanh\": np.tanh,\n",
    "    \"linear\": lambda x: x,\n",
    "    \"softmax\": lambda x: np.exp(x) / np.sum(np.exp(x), axis=0, keepdims=True)  # Softmax function fixed for 1D input\n",
    "}\n",
    "\n",
    "# Define standalone functions for each neuron\n",
    "class MLP_Network:\n",
    "    def __init__(self, model_json):\n",
    "        self.layers = []\n",
    "        self.activations = []\n",
    "        self.outputs = {}  # Dictionary to store layer outputs\n",
    "        \n",
    "        for layer_key in sorted(model_json.keys(), key=lambda x: int(x.split('_')[1])):\n",
    "            layer = model_json[layer_key]\n",
    "            self.layers.append((np.array(layer[\"weights\"]).T, np.array(layer[\"biases\"])))  # Transpose weights\n",
    "            self.activations.append(activation_functions[layer[\"activation\"]])\n",
    "    \n",
    "    def forward(self, x):\n",
    "        self.outputs[\"input\"] = x  # Store input layer\n",
    "        for i, ((weights, biases), activation) in enumerate(zip(self.layers, self.activations)):\n",
    "            x = activation(np.dot(x, weights) + biases)\n",
    "            self.outputs[f\"layer_{i}\"] = x  # Store each layer's output\n",
    "        return x\n",
    "\n",
    "# Load the model from the provided JSON file\n",
    "model_path = \"model.json\"\n",
    "model_json = load_model(model_path)\n",
    "mlp = MLP_Network(model_json)\n",
    "\n",
    "# Load MNIST data using PyTorch datasets\n",
    "mnist_test = datasets.MNIST(root=\"./data\", train=False, transform=transforms.ToTensor(), download=True)\n",
    "\n",
    "# Test model on a single MNIST image\n",
    "image, label = mnist_test[0]\n",
    "image = image.numpy().reshape(-1)  # Flatten the 28x28 image into a vector\n",
    "prediction = mlp.forward(image)\n",
    "predicted_label = np.argmax(prediction)\n",
    "\n",
    "# Print stored outputs from each layer\n",
    "for layer, output in mlp.outputs.items():\n",
    "    print(f\"{layer} output: {output[:5]}\")  # Print first 5 values of each layer output for brevity\n",
    "\n",
    "print(f\"Predicted label: {predicted_label}, Actual label: {label}\")"
   ]
  },
  {
   "cell_type": "code",
   "execution_count": 29,
   "id": "d1a5b927-2a10-4d98-b726-58a86c3d1492",
   "metadata": {},
   "outputs": [
    {
     "name": "stdout",
     "output_type": "stream",
     "text": [
      "784\n"
     ]
    }
   ],
   "source": [
    "print(len(model_json['layer_0']['weights'][1]))"
   ]
  },
  {
   "cell_type": "code",
   "execution_count": null,
   "id": "a27dc256-3dc5-4f4a-b8d1-a1e39fe87d79",
   "metadata": {},
   "outputs": [],
   "source": []
  }
 ],
 "metadata": {
  "kernelspec": {
   "display_name": "Python 3 (ipykernel)",
   "language": "python",
   "name": "python3"
  },
  "language_info": {
   "codemirror_mode": {
    "name": "ipython",
    "version": 3
   },
   "file_extension": ".py",
   "mimetype": "text/x-python",
   "name": "python",
   "nbconvert_exporter": "python",
   "pygments_lexer": "ipython3",
   "version": "3.9.21"
  }
 },
 "nbformat": 4,
 "nbformat_minor": 5
}
