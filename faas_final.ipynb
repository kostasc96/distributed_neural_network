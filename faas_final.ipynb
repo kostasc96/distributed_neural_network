{
 "cells": [
  {
   "cell_type": "code",
   "execution_count": 28,
   "id": "c2d92ebe-4df7-4681-8694-387ec8ba16a2",
   "metadata": {},
   "outputs": [
    {
     "data": {
      "text/plain": [
       "True"
      ]
     },
     "execution_count": 28,
     "metadata": {},
     "output_type": "execute_result"
    }
   ],
   "source": [
    "import redis \n",
    "\n",
    "client = redis.Redis('host.docker.internal', 6379, 0)\n",
    "\n",
    "client.flushdb()"
   ]
  },
  {
   "cell_type": "code",
   "execution_count": 29,
   "id": "136b501c-29c6-4d71-b303-af8ed0568bc9",
   "metadata": {},
   "outputs": [],
   "source": [
    "import json\n",
    "import numpy as np\n",
    "import threading\n",
    "import time\n",
    "from concurrent.futures import ThreadPoolExecutor\n",
    "from pcomp.kafka_handlers import KafkaProducerHandler, KafkaConsumerHandler, KafkaConsumerHandlerNeuron\n",
    "from pcomp.activation_functions import ACTIVATIONS, relu, softmax\n",
    "from pcomp.redis_utils import RedisHandler\n",
    "from pcomp.parser import parse_layer_coordinator_message, parse_layer_message\n",
    "from pcomp.avro_utils import avro_serialize, avro_deserialize\n",
    "from pcomp.neurons_accumulator import NeuronsAccumulator\n",
    "\n",
    "# Kafka Configuration\n",
    "KAFKA_BROKER = 'kafka:29092'"
   ]
  },
  {
   "cell_type": "code",
   "execution_count": 30,
   "id": "e68f596b-e555-45b0-bce6-80001e581f91",
   "metadata": {},
   "outputs": [
    {
     "name": "stdout",
     "output_type": "stream",
     "text": [
      "Threads started\n"
     ]
    }
   ],
   "source": [
    "class Neuron(threading.Thread):\n",
    "    def __init__(self, layer_id, neuron_id, weights, bias, activation, is_final_layer):\n",
    "        threading.Thread.__init__(self)\n",
    "        self.layer_id = layer_id\n",
    "        self.layer_id_num = int(self.layer_id.replace(\"layer_\", \"\"))\n",
    "        self.neuron_id = neuron_id\n",
    "        self.weights = np.array(weights)\n",
    "        self.bias = np.array(bias)\n",
    "        self.activation = activation\n",
    "        self.activation_func = ACTIVATIONS.get(activation, relu)\n",
    "        self.is_final_layer = is_final_layer\n",
    "        self.redis_handler = RedisHandler('host.docker.internal', 6379, 0, 5)\n",
    "        self.producer = None\n",
    "        self.executor = ThreadPoolExecutor(max_workers=4)\n",
    "        \n",
    "\n",
    "    def fetch_input(self, image_id):\n",
    "        key = f\"streams:{image_id}:initial_data\" if self.layer_id == 'layer_0' else f\"streams:{image_id}:{self.layer_id_num - 1}\"\n",
    "        # Poll Redis until the data is available.\n",
    "        while True:\n",
    "            data = np.frombuffer(self.redis_handler.get(key), dtype=np.float64)\n",
    "            if data is not None:\n",
    "                return data\n",
    "            print(f\"⏳ Neuron {self.neuron_id} waiting for input data for key: {key}\")\n",
    "            time.sleep(0.5)\n",
    "\n",
    "    def process_and_send(self, image_id, input_data):\n",
    "        z = np.dot(input_data, self.weights) + self.bias\n",
    "        output = z if self.is_final_layer else self.activation_func(z)\n",
    "        #key = f\"outputs:{image_id}:{self.layer_id_num}\"\n",
    "        #self.redis_handler.store_neuron_output(key, self.neuron_id, output)\n",
    "        msg = f\"{image_id}|{self.neuron_id}|{format(output, '.17g')}\"\n",
    "        self.producer.send(msg)\n",
    "        #self.producer.send(f'requests-responses', 'www.neuron.example')\n",
    "\n",
    "    def run(self):\n",
    "        # Instantiate Kafka consumer and producer inside the thread.\n",
    "        consumer = KafkaConsumerHandler(f'layer-{self.layer_id_num}', KAFKA_BROKER, group_id=f\"{self.neuron_id}_{self.layer_id_num}_group\")\n",
    "        self.producer = KafkaProducerHandler(KAFKA_BROKER, f'layer-{self.layer_id_num}-complete')\n",
    "        last_msg_time = time.time()\n",
    "        while True:\n",
    "            got_message = False\n",
    "            for message in consumer.consume():\n",
    "                got_message = True\n",
    "                last_msg_time = time.time()\n",
    "                image_id_str = message\n",
    "                image_id = int(image_id_str)\n",
    "                input_data = self.fetch_input(image_id)\n",
    "                self.process_and_send(image_id, input_data)\n",
    "            if not got_message and (time.time() - last_msg_time > 10):\n",
    "                consumer.commit()\n",
    "                consumer.close()\n",
    "                self.producer.close()\n",
    "                break\n",
    "\n",
    "\n",
    "class LayerCoordinator(threading.Thread):\n",
    "    def __init__(self, layer_id, neuron_count, is_final_layer=False):\n",
    "        threading.Thread.__init__(self)\n",
    "        self.layer_id = layer_id\n",
    "        self.layer_id_num = int(self.layer_id.replace(\"layer_\", \"\"))\n",
    "        self.neuron_count = neuron_count\n",
    "        self.is_final_layer = is_final_layer\n",
    "        self.redis_handler = RedisHandler('host.docker.internal', 6379, 0, 40)\n",
    "        self.executor = ThreadPoolExecutor(max_workers=4)\n",
    "        self.producer = None\n",
    "\n",
    "    def run(self):\n",
    "        consumer = KafkaConsumerHandler(f'layer-{self.layer_id_num}-complete', KAFKA_BROKER, group_id=f\"{self.layer_id_num}_coord_group\")\n",
    "        if not self.is_final_layer:\n",
    "            self.producer = KafkaProducerHandler(KAFKA_BROKER, f\"layer-{self.layer_id_num + 1}\")\n",
    "        last_msg_time = time.time()\n",
    "        while True:\n",
    "            got_message = False\n",
    "            for message in consumer.consume():\n",
    "                got_message = True\n",
    "                last_msg_time = time.time()\n",
    "                image_id_str, neuron_id_str, output = message.split(\"|\")\n",
    "                image_id = int(image_id_str)\n",
    "                neuron_id = int(neuron_id_str)\n",
    "                key = f\"streams:{image_id}:outputs:{self.layer_id_num}\"\n",
    "                cnt_key = f\"streams:{image_id}:cnt:{self.layer_id_num}\"\n",
    "                cnt = self.redis_handler.store_neuron_result(key, cnt_key, neuron_id, output, self.neuron_count)\n",
    "                if cnt == self.neuron_count:\n",
    "                    self.aggregate_neuron_outputs(image_id, key)\n",
    "            if not got_message and (time.time() - last_msg_time > 10):\n",
    "                consumer.commit()\n",
    "                consumer.close()\n",
    "                if self.producer:\n",
    "                    self.producer.close()\n",
    "                break\n",
    "\n",
    "    def aggregate_neuron_outputs(self, image_id, key):\n",
    "        outputs = self.redis_handler.get_output_vector(key, self.neuron_count)\n",
    "        if not self.is_final_layer:\n",
    "            self.redis_handler.set(f\"streams:{image_id}:{self.layer_id_num}\", outputs, True, 60)\n",
    "            msg = f\"{image_id}\"\n",
    "            self.producer.send(msg)\n",
    "        else:\n",
    "            prediction = int(np.argmax(outputs))\n",
    "            self.redis_handler.hset('streams:predictions', image_id, prediction)\n",
    "            self.redis_handler.delete_streams_keys(image_id)\n",
    "\n",
    "# Load network and dataset\n",
    "data = json.load(open(\"node_based_model.json\"))\n",
    "#df = pd.read_csv('data/mnist.csv').head(10)\n",
    "\n",
    "neurons = []\n",
    "layers = []\n",
    "coordinators = []\n",
    "\n",
    "for layer_name, layer_info in data.items():\n",
    "    neurons += [Neuron(layer_id=layer_name, neuron_id=i, weights=node['weights'], bias=node['biases'], activation=node['activation'], is_final_layer=(layer_name == list(data.keys())[-1])) for i, node in enumerate(layer_info['nodes'])]\n",
    "    coordinators.append(LayerCoordinator(layer_id=layer_name, neuron_count=len(layer_info['nodes']), is_final_layer=(layer_name == list(data.keys())[-1])))\n",
    "\n",
    "# Start all threads\n",
    "for thread in neurons + coordinators:\n",
    "    thread.start()\n",
    "\n",
    "print(\"Threads started\")"
   ]
  },
  {
   "cell_type": "code",
   "execution_count": 32,
   "id": "fde9b593-bd3e-412d-8952-55a50b83dbf0",
   "metadata": {},
   "outputs": [
    {
     "name": "stdout",
     "output_type": "stream",
     "text": [
      "Threads finished\n"
     ]
    }
   ],
   "source": [
    "# Wait for all threads to complete\n",
    "for thread in neurons + coordinators:\n",
    "    thread.join()\n",
    "\n",
    "print(\"Threads finished\")"
   ]
  },
  {
   "cell_type": "code",
   "execution_count": 31,
   "id": "0c3d722f-4bb6-4f2e-9864-8003a6a1f9dc",
   "metadata": {},
   "outputs": [
    {
     "name": "stdout",
     "output_type": "stream",
     "text": [
      "Accuracy: 96.20% (962/1000)\n"
     ]
    }
   ],
   "source": [
    "import redis\n",
    "\n",
    "# Connect to Redis\n",
    "r = RedisHandler('host.docker.internal', 6379, 0)\n",
    "\n",
    "# Get hashes from Redis\n",
    "images_label = r.hgetall('streams:images_label')\n",
    "predictions = r.hgetall('streams:predictions')\n",
    "\n",
    "# Decode bytes to string\n",
    "images_label = {k.decode(): v.decode() for k, v in images_label.items()}\n",
    "predictions = {k.decode(): v.decode() for k, v in predictions.items()}\n",
    "\n",
    "# Calculate accuracy\n",
    "correct = 0\n",
    "total = len(images_label)\n",
    "\n",
    "for field, label_val in images_label.items():\n",
    "    pred_val = predictions.get(field, None)\n",
    "    if pred_val == label_val:\n",
    "        correct += 1\n",
    "\n",
    "accuracy = (correct / total) * 100 if total > 0 else 0\n",
    "\n",
    "print(f'Accuracy: {accuracy:.2f}% ({correct}/{total})')\n"
   ]
  },
  {
   "cell_type": "code",
   "execution_count": 37,
   "id": "1387eecf-66be-43b8-bf3e-bda98abda850",
   "metadata": {},
   "outputs": [
    {
     "name": "stdout",
     "output_type": "stream",
     "text": [
      "128\n"
     ]
    }
   ],
   "source": [
    "r = redis.Redis('host.docker.internal', 6379, 0)\n",
    "l = r.hlen(\"outputs:1:0\")\n",
    "print(l)"
   ]
  },
  {
   "cell_type": "code",
   "execution_count": 12,
   "id": "ee75e715-3663-47cf-8857-af409f33b584",
   "metadata": {},
   "outputs": [
    {
     "name": "stdout",
     "output_type": "stream",
     "text": [
      "Result of INCR: 10\n"
     ]
    }
   ],
   "source": [
    "r = RedisHandler('host.docker.internal', 6379, 0)\n",
    "\n",
    "# lua_script = \"\"\"\n",
    "# redis.call('HSET', KEYS[1], ARGV[1], ARGV[2])\n",
    "# local incrResult = redis.call('INCR', KEYS[2])\n",
    "# return incrResult\n",
    "# \"\"\"\n",
    "\n",
    "# redis_handler = RedisHandler('host.docker.internal', 6379, 0)\n",
    "\n",
    "result = r.store_neuron_result(\"myhash\", \"counter\", \"field3\", \"value\")\n",
    "\n",
    "print(\"Result of INCR:\", result)"
   ]
  },
  {
   "cell_type": "code",
   "execution_count": 16,
   "id": "5ce3a42d-11a3-4909-b961-acefbef38276",
   "metadata": {},
   "outputs": [
    {
     "name": "stdout",
     "output_type": "stream",
     "text": [
      "Result: []\n"
     ]
    }
   ],
   "source": [
    "import redis\n",
    "\n",
    "# Connect to Redis\n",
    "r = redis.Redis(host='host.docker.internal', port=6379, db=0)\n",
    "\n",
    "# Lua script that pushes all values from a hash into a list and returns the list\n",
    "lua_script = \"\"\"\n",
    "local hashKey = KEYS[1]\n",
    "local listKey = KEYS[2]\n",
    "\n",
    "local fields = redis.call(\"HKEYS\", hashKey)\n",
    "for i, field in ipairs(fields) do\n",
    "    local value = redis.call(\"HGET\", hashKey, field)\n",
    "    redis.call(\"RPUSH\", listKey, value)\n",
    "end\n",
    "return redis.call(\"LRANGE\", listKey, 0, -1)\n",
    "\"\"\"\n",
    "\n",
    "# Number 2 indicates that there are two keys: the hash key and the list key.\n",
    "result = r.eval(lua_script, 2, \"myhash\", \"mylist\")\n",
    "\n",
    "print(\"Result:\", result)"
   ]
  },
  {
   "cell_type": "code",
   "execution_count": null,
   "id": "ba21fc0c-313d-4a38-9588-7696d8935135",
   "metadata": {},
   "outputs": [],
   "source": []
  }
 ],
 "metadata": {
  "kernelspec": {
   "display_name": "Python 3 (ipykernel)",
   "language": "python",
   "name": "python3"
  },
  "language_info": {
   "codemirror_mode": {
    "name": "ipython",
    "version": 3
   },
   "file_extension": ".py",
   "mimetype": "text/x-python",
   "name": "python",
   "nbconvert_exporter": "python",
   "pygments_lexer": "ipython3",
   "version": "3.9.21"
  }
 },
 "nbformat": 4,
 "nbformat_minor": 5
}
